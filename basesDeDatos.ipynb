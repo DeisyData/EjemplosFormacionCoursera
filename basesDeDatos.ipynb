{
  "nbformat": 4,
  "nbformat_minor": 0,
  "metadata": {
    "colab": {
      "provenance": [],
      "authorship_tag": "ABX9TyMeMzJrJSGeJ3+zehQJ9EU6",
      "include_colab_link": true
    },
    "kernelspec": {
      "name": "python3",
      "display_name": "Python 3"
    },
    "language_info": {
      "name": "python"
    }
  },
  "cells": [
    {
      "cell_type": "markdown",
      "metadata": {
        "id": "view-in-github",
        "colab_type": "text"
      },
      "source": [
        "<a href=\"https://colab.research.google.com/github/DeisyData/EjemplosFormacionCoursera/blob/main/basesDeDatos.ipynb\" target=\"_parent\"><img src=\"https://colab.research.google.com/assets/colab-badge.svg\" alt=\"Open In Colab\"/></a>"
      ]
    },
    {
      "cell_type": "markdown",
      "source": [
        "#**Conjuntos de datos: REGRESIÓN**\n",
        "\n"
      ],
      "metadata": {
        "id": "pIvS11uPVl5S"
      }
    },
    {
      "cell_type": "markdown",
      "source": [
        "[Datos MPG](https://archive.ics.uci.edu/dataset/9/auto+mpg)\n",
        "\n",
        "Número de instancias : 398\n",
        "\n",
        "Variable a Objetivo:  MPG [Millas por galon]\n",
        "\n",
        "Number of attributes: 9\n",
        "\n",
        "1.   mpg:           continuous\n",
        "2.   cylinders:     multi-valued discrete\n",
        "3.   displacement:  continuous\n",
        "4.   horsepower:    continuous\n",
        "5.   weight:        continuous\n",
        "6.   acceleration:  continuous\n",
        "7.   model year:    multi-valued discrete\n",
        "8.   origin:        multi-valued discrete\n",
        "9.   car name:      string (unique for each instance)\n",
        "\n"
      ],
      "metadata": {
        "id": "hEvCJFUrYiZp"
      }
    },
    {
      "cell_type": "markdown",
      "source": [
        "\n",
        "\n",
        "---\n",
        "\n"
      ],
      "metadata": {
        "id": "gvFwotWreGwg"
      }
    },
    {
      "cell_type": "markdown",
      "source": [
        "[kaggle: Energy Efficiency Dataset](https://www.kaggle.com/datasets/elikplim/eergy-efficiency-dataset/data)\n",
        "\n",
        "**Sample :**  768\n",
        "\n",
        "**Target:**\n",
        "\n",
        "The dataset contains eight attributes (or features, denoted by X1…X8) and two responses (or outcomes, denoted by y1 and y2). The aim is to use the eight features to predict each of the two responses.\n",
        "\n",
        "* y1 Heating Load\n",
        "* y2 Cooling Load\n",
        "\n",
        "**Number of attributes:** 8\n",
        "* X1 Relative Compactness\n",
        "* X2 Surface Area\n",
        "* X3 Wall Area\n",
        "* X4 Roof Area\n",
        "* X5 Overall Height\n",
        "* X6 Orientation\n",
        "* X7 Glazing Area\n",
        "* X8 Glazing Area Distribution\n",
        "\n",
        "\n",
        "---\n",
        "\n"
      ],
      "metadata": {
        "id": "GEG80GhNdVAt"
      }
    },
    {
      "cell_type": "markdown",
      "source": [
        "#**Conjuntos de datos: CLASIFICACIÓN- AGRUPAMIENTO**\n",
        "\n"
      ],
      "metadata": {
        "id": "I_dudIpab7iG"
      }
    },
    {
      "cell_type": "markdown",
      "source": [
        "[kaggle: Adult income dataset](https://www.kaggle.com/datasets/wenruliu/adult-income-dataset)\n",
        "\n",
        "[uci: Adult income dataset](https://www.kaggle.com/datasets/wenruliu/adult-income-dataset)\n",
        "\n",
        "\n",
        "Número de instancias : 48842\n",
        "\n",
        "Variable a Objetivo:  Income (The income is divide into two classes: <=50K and >50K)\n",
        "\n",
        "Number of attributes: 14\n",
        "-- These are the demographics and other features to describe a person\n",
        "\n",
        "'age', 'workclass', 'fnlwgt', 'education', 'educational-num',\n",
        "       'marital-status', 'occupation', 'relationship', 'race', 'gender',\n",
        "       'capital-gain', 'capital-loss', 'hours-per-week', 'native-country',\n",
        "       'income'\n",
        "\n",
        "\n",
        "---\n",
        "\n"
      ],
      "metadata": {
        "id": "3TEvA53TcCZv"
      }
    },
    {
      "cell_type": "markdown",
      "source": [],
      "metadata": {
        "id": "4fOSTzNceBKD"
      }
    }
  ]
}